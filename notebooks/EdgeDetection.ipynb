{
 "cells": [
  {
   "cell_type": "markdown",
   "metadata": {},
   "source": [
    "# Edge Detection and Confidence Scoring in Images\n",
    "\n",
    "This notebook demonstrates the process of edge detection and confidence scoring in images, particularly focusing on identifying the presence of animals. The workflow involves several key steps:\n",
    "\n",
    "1. **Import Libraries**: Essential libraries such as NumPy, PIL, and Matplotlib are imported for image processing and visualization.\n",
    "\n",
    "2. **Convert Image to Grayscale**: The input image is converted to a grayscale format to simplify the edge detection process.\n",
    "\n",
    "3. **Sobel Gradients**: The Sobel operator is applied to compute the gradient magnitude, highlighting edges by detecting intensity changes.\n",
    "\n",
    "4. **Binary Edge Map**: A binary edge map is created by applying a threshold to the gradient magnitude. Pixels with gradient values above the threshold are considered edges.\n",
    "\n",
    "5. **Edge Fraction Calculation**: The edge fraction is computed as the ratio of edge pixels to the total number of pixels, providing a global measure of edge presence.\n",
    "\n",
    "6. **Blob Detection**: A sliding window scans the binary edge map for large contiguous blobs of edge pixels, recording the size of the largest blob.\n",
    "\n",
    "7. **Blob Fraction Calculation**: The blob fraction is calculated as the ratio of the largest blob's size to the window size, measuring significant edge structures.\n",
    "\n",
    "8. **Confidence Score**: The edge fraction and blob fraction are combined to produce a final confidence score, indicating the likelihood of an animal's presence based on detected edges.\n",
    "\n",
    "By following these steps, the notebook provides a comprehensive approach to edge detection and confidence scoring, useful for various image analysis applications."
   ]
  },
  {
   "cell_type": "code",
   "execution_count": 4,
   "metadata": {},
   "outputs": [],
   "source": [
    "# Import necessary libraries\n",
    "import numpy as np\n",
    "from PIL import Image\n",
    "import matplotlib.pyplot as plt\n",
    "\n",
    "# Enable inline plotting for notebooks\n",
    "%matplotlib inline"
   ]
  },
  {
   "cell_type": "code",
   "execution_count": 5,
   "metadata": {},
   "outputs": [],
   "source": [
    "def rgb2gray(image_array):\n",
    "    \"\"\"\n",
    "    Convert an RGB image (as a NumPy array) to grayscale. (https://saturncloud.io/blog/how-to-convert-an-image-to-grayscale-using-numpy-arrays-a-comprehensive-guide/)\n",
    "    \"\"\"\n",
    "    return np.dot(image_array[..., :3], [0.2989, 0.5870, 0.1140])"
   ]
  },
  {
   "cell_type": "markdown",
   "metadata": {},
   "source": [
    "### Sobel Gradients \n",
    "The Sobel operator is an edge detection method that approximates the gradient of an image's intensity. \n",
    "\n",
    "\n",
    "#### Applying two 3x3 kernels (matrix):\n",
    " > \\(G_x\\) one for detecting horizontal gradients \n",
    "\n",
    " > \\(G_y\\) one for vertical gradients (). \n",
    "\n",
    "\n",
    "*These kernels highlight changes in pixel intensity along their respective directions.*\n",
    "\n",
    "For every pixel in the image, the operator extracts a 3x3 patch and performs element-wise multiplication with the kernels, followed by a summation to compute the gradient values in both the x- and y-directions. \n",
    "The result is the change in intensity along both axes, which highlights the edges in the image. \n",
    "After obtaining \\(G_x\\) and \\(G_y\\), the overall edge strength or gradient magnitude is computed using the Euclidean norm: \n",
    "\n",
    "\\[\\text{grad\\_magnitude} = \\sqrt{G_x^2 + G_y^2} \\] \n",
    "\n",
    "This value *represents the edge strength at each pixel*, which helps in **identifying boundaries** or gradients within the image. \n",
    "The Sobel kernels are designed with a smoothing effect, reducing the influence of noise. \n",
    "This smoothing is achieved by giving **higher weights** to the center of the kernel and lower weights to the edges. "
   ]
  },
  {
   "cell_type": "code",
   "execution_count": 6,
   "metadata": {},
   "outputs": [],
   "source": [
    "def sobel_gradients(gray_image):\n",
    "    \"\"\"\n",
    "    Compute the gradient magnitude using a Sobel operator.\n",
    "    \n",
    "    The Sobel operator guesses the intensity changes (edges) in the image by using\n",
    "    two 3x3 convolution kernels (matrices). One kernel (Kx) detects horizontal changes, while the\n",
    "    other kernel (Ky) detects vertical changes. The gradient magnitude is then the combination\n",
    "    of these two directional gradients.\n",
    "    \"\"\"\n",
    "    # Define Sobel kernels\n",
    "    Kx = np.array([[-1, 0, 1],\n",
    "                   [-2, 0, 2],\n",
    "                   [-1, 0, 1]], dtype=np.float32)\n",
    "    Ky = np.array([[-1, -2, -1],\n",
    "                   [ 0,  0,  0],\n",
    "                   [ 1,  2,  1]], dtype=np.float32)\n",
    "    \n",
    "    H, W = gray_image.shape\n",
    "    # Pad the image to handle borders\n",
    "    padded = np.pad(gray_image, ((1, 1), (1, 1)), mode='edge') # pads the number array with zeros\n",
    "    \n",
    "    # Create the gradient matrices for both x and y directions\n",
    "    # Pad them with zeros to match the input image size\n",
    "    Gx = np.zeros_like(gray_image, dtype=np.float32)\n",
    "    Gy = np.zeros_like(gray_image, dtype=np.float32)\n",
    "    \n",
    "    # Add them up, to get the gradient magnitude\n",
    "    for i in range(H):\n",
    "        for j in range(W):\n",
    "            patch = padded[i:i+3, j:j+3]\n",
    "            Gx[i, j] = np.sum(Kx * patch)\n",
    "            Gy[i, j] = np.sum(Ky * patch)\n",
    "    \n",
    "    grad_magnitude = np.sqrt(Gx**2 + Gy**2)\n",
    "    return grad_magnitude"
   ]
  },
  {
   "cell_type": "markdown",
   "metadata": {},
   "source": [
    "## Computing Edge-Based Confidence Score\n",
    "\n",
    "The function `compute_edge_confidence` calculates an edge-based confidence score to indicate the likelihood of an animal's presence in an image. This process involves several steps:\n",
    "\n",
    "1. **Convert Image to Grayscale**: The input image is converted to a grayscale image, which simplifies the edge detection process by reducing the image to a single channel.\n",
    "\n",
    "2. **Compute Gradient Magnitude**: The Sobel operator is applied to the grayscale image to compute the gradient magnitude. This highlights the edges in the image by detecting intensity changes.\n",
    "\n",
    "3. **Create Binary Edge Map**: A binary edge map is created by applying a threshold to the gradient magnitude. Pixels with gradient values above the threshold are considered edges and set to 1, while others are set to 0.\n",
    "\n",
    "4. **Calculate Edge Fraction**: The edge fraction is computed as the ratio of edge pixels to the total number of pixels in the image. This gives a global measure of the amount of edges present.\n",
    "\n",
    "5. **Detect Large Edge Blobs**: A sliding window is used to scan the binary edge map for large contiguous blobs of edge pixels. The size of the largest blob is recorded.\n",
    "\n",
    "6. **Calculate Blob Fraction**: The blob fraction is calculated as the ratio of the largest blob's size to the window size. This measures the presence of significant edge structures.\n",
    "\n",
    "7. **Combine Metrics for Confidence Score**: The edge fraction and blob fraction are combined to produce a final confidence score, which ranges from 0 to 1. A higher score indicates a higher likelihood of an animal's presence based on the detected edges."
   ]
  },
  {
   "cell_type": "code",
   "execution_count": 7,
   "metadata": {},
   "outputs": [],
   "source": [
    "def compute_edge_confidence(pil_image, edge_threshold=50, window_size=20):\n",
    "    \"\"\"\n",
    "    Computes an edge-based confidence score indicating the likelihood of an animal presence.\n",
    "    \n",
    "    Parameters:\n",
    "      - pil_image: A PIL Image object.\n",
    "      - edge_threshold: Threshold on gradient magnitude for edge detection.\n",
    "      - window_size: Size of the sliding window to capture local edge blobs.\n",
    "    \n",
    "    Returns:\n",
    "      - confidence: A value between 0 and 1.\n",
    "      - edge_map: The binary edge image (for debugging/visualization).\n",
    "    \"\"\"\n",
    "    # Convert the PIL image to grayscale (as a NumPy array)\n",
    "    gray_array = np.array(pil_image.convert('L'), dtype=np.float32)\n",
    "    \n",
    "    # Compute the gradient magnitude\n",
    "    grad_mag = sobel_gradients(gray_array)\n",
    "    \n",
    "    # Create a binary edge map: pixels above edge_threshold are set to 1\n",
    "    edge_map = (grad_mag > edge_threshold).astype(np.uint8)\n",
    "    \n",
    "    # Global edge fraction: ratio of edge pixels to total pixels\n",
    "    edge_fraction = np.sum(edge_map) / edge_map.size\n",
    "    \n",
    "    # Look for a large blob by scanning with a sliding window\n",
    "    H, W = edge_map.shape\n",
    "    max_blob = 0\n",
    "    for i in range(0, H - window_size + 1, window_size):\n",
    "        for j in range(0, W - window_size + 1, window_size):\n",
    "            window = edge_map[i:i+window_size, j:j+window_size]\n",
    "            blob_sum = np.sum(window)\n",
    "            if blob_sum > max_blob:\n",
    "                max_blob = blob_sum\n",
    "    blob_fraction = max_blob / (window_size * window_size)\n",
    "    \n",
    "    # Combine both metrics to get a confidence score\n",
    "    confidence = (edge_fraction + blob_fraction) / 2.0\n",
    "    return confidence, edge_map\n"
   ]
  },
  {
   "cell_type": "markdown",
   "metadata": {},
   "source": [
    "## Basic Workflow Overview\n",
    "\n",
    "This notebook outlines a step-by-step process for detecting edges in images and calculating a confidence score to determine the likelihood of an animal's presence. Here's a simplified overview:\n",
    "\n",
    "1. **Import Libraries**: Load essential libraries for image processing and visualization.\n",
    "2. **Convert Image to Grayscale**: Simplify the image by converting it to grayscale.\n",
    "3. **Apply Sobel Operator**: Detect edges by calculating the gradient magnitude.\n",
    "4. **Create Binary Edge Map**: Identify edges by applying a threshold to the gradient magnitude.\n",
    "5. **Calculate Edge Fraction**: Measure the proportion of edge pixels in the image.\n",
    "6. **Detect Large Edge Blobs**: Find significant edge structures using a sliding window.\n",
    "7. **Calculate Blob Fraction**: Measure the size of the largest edge blob.\n",
    "8. **Compute Confidence Score**: Combine edge and blob fractions to determine the likelihood of an animal's presence."
   ]
  },
  {
   "cell_type": "code",
   "execution_count": null,
   "metadata": {},
   "outputs": [],
   "source": [
    "# Load a sample image using PIL\n",
    "sample_image_path = r\"C:\\Users\\rf4thyrvm\\Documents\\CritterSnap\\data\\example\\ds_researchATU\\IMG_0198.JPG\"\n",
    "img = Image.open(sample_image_path)\n",
    "\n",
    "# Display the image\n",
    "plt.imshow(img)\n",
    "plt.title(\"Original Image\")\n",
    "plt.axis(\"off\")\n",
    "plt.show()"
   ]
  },
  {
   "cell_type": "code",
   "execution_count": null,
   "metadata": {},
   "outputs": [],
   "source": [
    "# Compute edge-based confidence and get the edge map\n",
    "confidence, edge_map = compute_edge_confidence(img, edge_threshold=50, window_size=20)\n",
    "\n",
    "print(\"Edge-based confidence score:\", confidence)\n",
    "\n",
    "# Visualize the edge map\n",
    "plt.imshow(edge_map, cmap=\"gray\")\n",
    "plt.title(\"Edge Map\")\n",
    "plt.axis(\"off\")\n",
    "plt.show()"
   ]
  },
  {
   "cell_type": "code",
   "execution_count": null,
   "metadata": {},
   "outputs": [],
   "source": [
    "# Experiment with different edge thresholds and window sizes\n",
    "for thresh in [30, 50, 70]:\n",
    "    for w_size in [10, 20, 30]:\n",
    "        conf, _ = compute_edge_confidence(img, edge_threshold=thresh, window_size=w_size)\n",
    "        print(f\"Edge Threshold: {thresh}, Window Size: {w_size} -> Confidence: {conf:.3f}\")"
   ]
  },
  {
   "cell_type": "markdown",
   "metadata": {},
   "source": [
    "Average : 0.7634"
   ]
  },
  {
   "cell_type": "code",
   "execution_count": null,
   "metadata": {},
   "outputs": [],
   "source": [
    "# Load a different sample image using PIL\n",
    "sample_image_path = r\"C:\\Users\\rf4thyrvm\\Documents\\CritterSnap\\data\\example\\ds_researchATU\\IMG_0001.JPG\" \n",
    "img1 = Image.open(sample_image_path)\n",
    "\n",
    "# Display the image\n",
    "plt.imshow(img1)\n",
    "plt.title(\"Original Image\")\n",
    "plt.axis(\"off\")\n",
    "# Compute edge-based confidence and get the edge map\n",
    "confidence, edge_map = compute_edge_confidence(img1, edge_threshold=50, window_size=20)\n",
    "\n",
    "print(\"Edge-based confidence score:\", confidence)\n",
    "\n",
    "# Visualize the edge map\n",
    "plt.imshow(edge_map, cmap=\"gray\")\n",
    "plt.title(\"Edge Map\")\n",
    "plt.axis(\"off\")\n",
    "plt.show()\n",
    "\n",
    "# Experiment with different edge thresholds and window sizes\n",
    "for thresh in [30, 50, 70]:\n",
    "    for w_size in [10, 20, 30]:\n",
    "        conf, _ = compute_edge_confidence(img, edge_threshold=thresh, window_size=w_size)\n",
    "        print(f\"Edge Threshold: {thresh}, Window Size: {w_size} -> Confidence: {conf:.3f}\")"
   ]
  },
  {
   "cell_type": "markdown",
   "metadata": {},
   "source": [
    "Average: 0.7534"
   ]
  }
 ],
 "metadata": {
  "kernelspec": {
   "display_name": "Python 3",
   "language": "python",
   "name": "python3"
  },
  "language_info": {
   "codemirror_mode": {
    "name": "ipython",
    "version": 3
   },
   "file_extension": ".py",
   "mimetype": "text/x-python",
   "name": "python",
   "nbconvert_exporter": "python",
   "pygments_lexer": "ipython3",
   "version": "3.13.2"
  }
 },
 "nbformat": 4,
 "nbformat_minor": 2
}
